{
 "cells": [
  {
   "cell_type": "code",
   "execution_count": 1,
   "metadata": {},
   "outputs": [
    {
     "name": "stdout",
     "output_type": "stream",
     "text": [
      "pygame 2.5.1 (SDL 2.28.2, Python 3.11.5)\n",
      "Hello from the pygame community. https://www.pygame.org/contribute.html\n"
     ]
    }
   ],
   "source": [
    "import sys, os\n",
    "import numpy as np\n",
    " \n",
    "import random\n",
    "from evoman.environment import Environment\n",
    "from evoman.controller import Controller\n",
    "from pygad.kerasga import model_weights_as_vector,model_weights_as_matrix\n",
    "\n",
    "import tensorflow as tf \n",
    "\n",
    "tf.compat.v1.disable_eager_execution()\n",
    "\n",
    "from deap import base, creator, tools, algorithms"
   ]
  },
  {
   "cell_type": "code",
   "execution_count": 2,
   "metadata": {},
   "outputs": [],
   "source": [
    "class player_controller(Controller):\n",
    "\n",
    "\tdef __init__(self, model):\n",
    "\t\tself.model = model\n",
    "\n",
    "\tdef control(self, inputs, controller):\n",
    "\n",
    "\t\t# Normalises the input using min-max scaling\n",
    "\t\tinputs = (inputs-min(inputs))/float((max(inputs)-min(inputs)))\n",
    "\t\tinputs = np.array(inputs).reshape((1,20,))\n",
    "\n",
    "\t\tsol = model_weights_as_matrix(self.model,controller)\n",
    "\t\tself.model.set_weights(sol)\n",
    "\t\tpreds = self.model.predict(inputs,verbose=0)\n",
    "\t\tpreds = (preds>0.5).astype(int)\n",
    "\t\t\n",
    "\t\treturn preds[0]"
   ]
  },
  {
   "cell_type": "code",
   "execution_count": 3,
   "metadata": {},
   "outputs": [],
   "source": [
    "def fitness_function(solution):\n",
    "    return (env.play(solution)[0],)"
   ]
  },
  {
   "cell_type": "code",
   "execution_count": 4,
   "metadata": {},
   "outputs": [],
   "source": [
    "input_layer  = tf.keras.layers.Input((20,))\n",
    "dense_layer1 = tf.keras.layers.Dense(16, activation=\"relu\")(input_layer)\n",
    "dense_layer2 = tf.keras.layers.Dense(16, activation=\"relu\")(dense_layer1)\n",
    "output_layer = tf.keras.layers.Dense(5, activation=\"softmax\")(dense_layer2)\n",
    "\n",
    "model = tf.keras.Model(inputs=input_layer, outputs=output_layer)"
   ]
  },
  {
   "cell_type": "code",
   "execution_count": 5,
   "metadata": {},
   "outputs": [
    {
     "name": "stdout",
     "output_type": "stream",
     "text": [
      "\n",
      "MESSAGE: Pygame initialized for simulation.\n"
     ]
    }
   ],
   "source": [
    "headless = True\n",
    "if headless:\n",
    "    os.environ[\"SDL_VIDEODRIVER\"] = \"dummy\"\n",
    "\n",
    "env = Environment(playermode=\"ai\",\n",
    "\t\t\t\t  player_controller=player_controller(model),\n",
    "\t\t\t  \t  speed=\"fastest\",\n",
    "\t\t\t\t  enemymode=\"static\",\n",
    "                  enemies=\"1\",\n",
    "\t\t\t\t  level=2,\n",
    "                  visuals=True)"
   ]
  },
  {
   "cell_type": "code",
   "execution_count": 6,
   "metadata": {},
   "outputs": [],
   "source": [
    "individual_size = model.count_params()"
   ]
  },
  {
   "cell_type": "code",
   "execution_count": 7,
   "metadata": {},
   "outputs": [],
   "source": [
    "creator.create(\"FitnessMax\", base.Fitness, weights=(1.0,))\n",
    "creator.create(\"Individual\", list, fitness=creator.FitnessMax)"
   ]
  },
  {
   "cell_type": "code",
   "execution_count": 8,
   "metadata": {},
   "outputs": [],
   "source": [
    "toolbox = base.Toolbox()\n",
    "toolbox.register(\"weight_bin\", np.random.uniform,-2,2)   #Initiate weights from uniform distribution between -1 to +1\n",
    "toolbox.register(\"individual\", tools.initRepeat, creator.Individual, toolbox.weight_bin, n=individual_size)\n",
    "toolbox.register(\"population\", tools.initRepeat, list, toolbox.individual)\n"
   ]
  },
  {
   "cell_type": "code",
   "execution_count": 9,
   "metadata": {},
   "outputs": [],
   "source": [
    "toolbox.register(\"mate\", tools.cxTwoPoint)\n",
    "toolbox.register(\"mutate\", tools.mutFlipBit, indpb=0.01)\n",
    "toolbox.register(\"select\", tools.selTournament, tournsize=3)\n",
    "toolbox.register(\"evaluate\", fitness_function)"
   ]
  },
  {
   "cell_type": "code",
   "execution_count": 10,
   "metadata": {},
   "outputs": [],
   "source": [
    "stats = tools.Statistics(lambda ind: ind.fitness.values)\n",
    "stats.register(\"Mean\", np.mean)\n",
    "stats.register(\"Max\", np.max)\n",
    "stats.register(\"Min\", np.min)"
   ]
  },
  {
   "cell_type": "code",
   "execution_count": 14,
   "metadata": {},
   "outputs": [],
   "source": [
    "pop = toolbox.population(n=100)\n",
    "hof = tools.HallOfFame(1)"
   ]
  },
  {
   "cell_type": "code",
   "execution_count": 15,
   "metadata": {},
   "outputs": [
    {
     "name": "stdout",
     "output_type": "stream",
     "text": [
      "gen\tnevals\tMean    \tMax    \tMin     \n",
      "0  \t100   \t-4.00158\t39.2286\t-6.44254\n",
      "1  \t80    \t-3.97243\t39.0704\t-6.42487\n",
      "2  \t84    \t-3.24184\t93.9373\t-6.04025\n",
      "3  \t89    \t-3.97484\t93.9373\t-6.39526\n",
      "4  \t87    \t-4.1486 \t93.9373\t-6.46147\n",
      "5  \t92    \t-4.14285\t39.0651\t-5.98645\n",
      "6  \t86    \t-3.42216\t39.0651\t-5.98645\n",
      "7  \t89    \t-3.43465\t39.0651\t-5.98645\n"
     ]
    },
    {
     "ename": "KeyboardInterrupt",
     "evalue": "",
     "output_type": "error",
     "traceback": [
      "\u001b[1;31m---------------------------------------------------------------------------\u001b[0m",
      "\u001b[1;31mKeyboardInterrupt\u001b[0m                         Traceback (most recent call last)",
      "\u001b[1;32mc:\\Users\\kaan9\\OneDrive\\Masaüstü\\EC\\evoman_framework-master\\keras_ea.ipynb Cell 12\u001b[0m line \u001b[0;36m1\n\u001b[1;32m----> <a href='vscode-notebook-cell:/c%3A/Users/kaan9/OneDrive/Masa%C3%BCst%C3%BC/EC/evoman_framework-master/keras_ea.ipynb#X15sZmlsZQ%3D%3D?line=0'>1</a>\u001b[0m pop, log \u001b[39m=\u001b[39m algorithms\u001b[39m.\u001b[39;49meaSimple(pop, toolbox, cxpb\u001b[39m=\u001b[39;49m\u001b[39m0.8\u001b[39;49m, mutpb\u001b[39m=\u001b[39;49m\u001b[39m0.2\u001b[39;49m, ngen\u001b[39m=\u001b[39;49m\u001b[39m10\u001b[39;49m, halloffame\u001b[39m=\u001b[39;49mhof, stats\u001b[39m=\u001b[39;49mstats,verbose\u001b[39m=\u001b[39;49m\u001b[39mTrue\u001b[39;49;00m)\n",
      "File \u001b[1;32m~\\AppData\\Local\\Packages\\PythonSoftwareFoundation.Python.3.11_qbz5n2kfra8p0\\LocalCache\\local-packages\\Python311\\site-packages\\deap\\algorithms.py:173\u001b[0m, in \u001b[0;36meaSimple\u001b[1;34m(population, toolbox, cxpb, mutpb, ngen, stats, halloffame, verbose)\u001b[0m\n\u001b[0;32m    171\u001b[0m invalid_ind \u001b[39m=\u001b[39m [ind \u001b[39mfor\u001b[39;00m ind \u001b[39min\u001b[39;00m offspring \u001b[39mif\u001b[39;00m \u001b[39mnot\u001b[39;00m ind\u001b[39m.\u001b[39mfitness\u001b[39m.\u001b[39mvalid]\n\u001b[0;32m    172\u001b[0m fitnesses \u001b[39m=\u001b[39m toolbox\u001b[39m.\u001b[39mmap(toolbox\u001b[39m.\u001b[39mevaluate, invalid_ind)\n\u001b[1;32m--> 173\u001b[0m \u001b[39mfor\u001b[39;00m ind, fit \u001b[39min\u001b[39;00m \u001b[39mzip\u001b[39m(invalid_ind, fitnesses):\n\u001b[0;32m    174\u001b[0m     ind\u001b[39m.\u001b[39mfitness\u001b[39m.\u001b[39mvalues \u001b[39m=\u001b[39m fit\n\u001b[0;32m    176\u001b[0m \u001b[39m# Update the hall of fame with the generated individuals\u001b[39;00m\n",
      "\u001b[1;32mc:\\Users\\kaan9\\OneDrive\\Masaüstü\\EC\\evoman_framework-master\\keras_ea.ipynb Cell 12\u001b[0m line \u001b[0;36m2\n\u001b[0;32m      <a href='vscode-notebook-cell:/c%3A/Users/kaan9/OneDrive/Masa%C3%BCst%C3%BC/EC/evoman_framework-master/keras_ea.ipynb#X15sZmlsZQ%3D%3D?line=0'>1</a>\u001b[0m \u001b[39mdef\u001b[39;00m \u001b[39mfitness_function\u001b[39m(solution):\n\u001b[1;32m----> <a href='vscode-notebook-cell:/c%3A/Users/kaan9/OneDrive/Masa%C3%BCst%C3%BC/EC/evoman_framework-master/keras_ea.ipynb#X15sZmlsZQ%3D%3D?line=1'>2</a>\u001b[0m     \u001b[39mreturn\u001b[39;00m (env\u001b[39m.\u001b[39;49mplay(solution)[\u001b[39m0\u001b[39m],)\n",
      "File \u001b[1;32mc:\\Users\\kaan9\\OneDrive\\Masaüstü\\EC\\evoman_framework-master\\evoman\\environment.py:621\u001b[0m, in \u001b[0;36mEnvironment.play\u001b[1;34m(self, pcont, econt)\u001b[0m\n\u001b[0;32m    619\u001b[0m     \u001b[39mreturn\u001b[39;00m \u001b[39mself\u001b[39m\u001b[39m.\u001b[39mmultiple(pcont,econt)\n\u001b[0;32m    620\u001b[0m \u001b[39melse\u001b[39;00m:\n\u001b[1;32m--> 621\u001b[0m     \u001b[39mreturn\u001b[39;00m \u001b[39mself\u001b[39;49m\u001b[39m.\u001b[39;49mrun_single(\u001b[39mself\u001b[39;49m\u001b[39m.\u001b[39;49menemies[\u001b[39m0\u001b[39;49m],pcont,econt)\n",
      "File \u001b[1;32mc:\\Users\\kaan9\\OneDrive\\Masaüstü\\EC\\evoman_framework-master\\evoman\\environment.py:486\u001b[0m, in \u001b[0;36mEnvironment.run_single\u001b[1;34m(self, enemyn, pcont, econt)\u001b[0m\n\u001b[0;32m    483\u001b[0m         \u001b[39mreturn\u001b[39;00m\n\u001b[0;32m    485\u001b[0m \u001b[39m# updates objects and draws its itens on screen\u001b[39;00m\n\u001b[1;32m--> 486\u001b[0m \u001b[39mself\u001b[39;49m\u001b[39m.\u001b[39;49mtilemap\u001b[39m.\u001b[39;49mupdate( \u001b[39m33\u001b[39;49m \u001b[39m/\u001b[39;49m \u001b[39m1000.\u001b[39;49m, \u001b[39mself\u001b[39;49m)\n\u001b[0;32m    488\u001b[0m \u001b[39mif\u001b[39;00m \u001b[39mself\u001b[39m\u001b[39m.\u001b[39mvisuals:\n\u001b[0;32m    490\u001b[0m     \u001b[39mself\u001b[39m\u001b[39m.\u001b[39mscreen\u001b[39m.\u001b[39mfill((\u001b[39m250\u001b[39m,\u001b[39m250\u001b[39m,\u001b[39m250\u001b[39m))\n",
      "File \u001b[1;32mc:\\Users\\kaan9\\OneDrive\\Masaüstü\\EC\\evoman_framework-master\\evoman\\tmx.py:706\u001b[0m, in \u001b[0;36mTileMap.update\u001b[1;34m(self, dt, *args)\u001b[0m\n\u001b[0;32m    704\u001b[0m \u001b[39mdef\u001b[39;00m \u001b[39mupdate\u001b[39m(\u001b[39mself\u001b[39m, dt, \u001b[39m*\u001b[39margs):\n\u001b[0;32m    705\u001b[0m     \u001b[39mfor\u001b[39;00m layer \u001b[39min\u001b[39;00m \u001b[39mself\u001b[39m\u001b[39m.\u001b[39mlayers:\n\u001b[1;32m--> 706\u001b[0m         layer\u001b[39m.\u001b[39;49mupdate(dt, \u001b[39m*\u001b[39;49margs)\n",
      "File \u001b[1;32m~\\AppData\\Local\\Packages\\PythonSoftwareFoundation.Python.3.11_qbz5n2kfra8p0\\LocalCache\\local-packages\\Python311\\site-packages\\pygame\\sprite.py:555\u001b[0m, in \u001b[0;36mAbstractGroup.update\u001b[1;34m(self, *args, **kwargs)\u001b[0m\n\u001b[0;32m    546\u001b[0m \u001b[39m\u001b[39m\u001b[39m\"\"\"call the update method of every member sprite\u001b[39;00m\n\u001b[0;32m    547\u001b[0m \n\u001b[0;32m    548\u001b[0m \u001b[39mGroup.update(*args, **kwargs): return None\u001b[39;00m\n\u001b[1;32m   (...)\u001b[0m\n\u001b[0;32m    552\u001b[0m \n\u001b[0;32m    553\u001b[0m \u001b[39m\"\"\"\u001b[39;00m\n\u001b[0;32m    554\u001b[0m \u001b[39mfor\u001b[39;00m sprite \u001b[39min\u001b[39;00m \u001b[39mself\u001b[39m\u001b[39m.\u001b[39msprites():\n\u001b[1;32m--> 555\u001b[0m     sprite\u001b[39m.\u001b[39;49mupdate(\u001b[39m*\u001b[39;49margs, \u001b[39m*\u001b[39;49m\u001b[39m*\u001b[39;49mkwargs)\n",
      "File \u001b[1;32mc:\\Users\\kaan9\\OneDrive\\Masaüstü\\EC\\evoman_framework-master\\evoman\\player.py:110\u001b[0m, in \u001b[0;36mPlayer.update\u001b[1;34m(self, dt, game)\u001b[0m\n\u001b[0;32m    107\u001b[0m     \u001b[39mself\u001b[39m\u001b[39m.\u001b[39mvy \u001b[39m=\u001b[39m \u001b[39m1\u001b[39m\n\u001b[0;32m    108\u001b[0m     \u001b[39mself\u001b[39m\u001b[39m.\u001b[39mhy \u001b[39m=\u001b[39m \u001b[39m-\u001b[39m\u001b[39m900\u001b[39m\n\u001b[1;32m--> 110\u001b[0m jump, left, release, right, shoot \u001b[39m=\u001b[39m \u001b[39mself\u001b[39;49m\u001b[39m.\u001b[39;49mget_input(game)\n\u001b[0;32m    112\u001b[0m \u001b[39m# if the button is released before the jumping maximum height, them player stops going up.\u001b[39;00m\n\u001b[0;32m    113\u001b[0m \u001b[39mif\u001b[39;00m release \u001b[39m==\u001b[39m \u001b[39m1\u001b[39m \u001b[39mand\u001b[39;00m \u001b[39mself\u001b[39m\u001b[39m.\u001b[39mresting \u001b[39m==\u001b[39m \u001b[39m0\u001b[39m:\n",
      "File \u001b[1;32mc:\\Users\\kaan9\\OneDrive\\Masaüstü\\EC\\evoman_framework-master\\evoman\\player.py:175\u001b[0m, in \u001b[0;36mPlayer.get_input\u001b[1;34m(self, game)\u001b[0m\n\u001b[0;32m    171\u001b[0m     jump, left, release, right, shoot \u001b[39m=\u001b[39m \u001b[39mself\u001b[39m\u001b[39m.\u001b[39mhuman_input(game)\n\u001b[0;32m    173\u001b[0m \u001b[39melif\u001b[39;00m game\u001b[39m.\u001b[39mplayermode \u001b[39m==\u001b[39m \u001b[39m'\u001b[39m\u001b[39mai\u001b[39m\u001b[39m'\u001b[39m:  \u001b[39m# player controlled by AI algorithm\u001b[39;00m\n\u001b[1;32m--> 175\u001b[0m     jump, left, release, right, shoot \u001b[39m=\u001b[39m \u001b[39mself\u001b[39;49m\u001b[39m.\u001b[39;49mai_input(game)\n\u001b[0;32m    176\u001b[0m \u001b[39mreturn\u001b[39;00m jump, left, release, right, shoot\n",
      "File \u001b[1;32mc:\\Users\\kaan9\\OneDrive\\Masaüstü\\EC\\evoman_framework-master\\evoman\\player.py:308\u001b[0m, in \u001b[0;36mPlayer.ai_input\u001b[1;34m(self, game)\u001b[0m\n\u001b[0;32m    306\u001b[0m     game\u001b[39m.\u001b[39mplayer_controller\u001b[39m.\u001b[39mset(game\u001b[39m.\u001b[39mpcont, \u001b[39mlen\u001b[39m(\u001b[39mself\u001b[39m\u001b[39m.\u001b[39msensors\u001b[39m.\u001b[39mget(game)))\n\u001b[0;32m    307\u001b[0m \u001b[39m# calls the controller providing game sensors\u001b[39;00m\n\u001b[1;32m--> 308\u001b[0m actions \u001b[39m=\u001b[39m game\u001b[39m.\u001b[39;49mplayer_controller\u001b[39m.\u001b[39;49mcontrol(\u001b[39mself\u001b[39;49m\u001b[39m.\u001b[39;49msensors\u001b[39m.\u001b[39;49mget(game), game\u001b[39m.\u001b[39;49mpcont)\n\u001b[0;32m    309\u001b[0m \u001b[39mif\u001b[39;00m \u001b[39mlen\u001b[39m(actions) \u001b[39m<\u001b[39m \u001b[39m5\u001b[39m:\n\u001b[0;32m    310\u001b[0m     game\u001b[39m.\u001b[39mprint_logs(\u001b[39m\"\u001b[39m\u001b[39mERROR: Player controller must return 5 decision variables.\u001b[39m\u001b[39m\"\u001b[39m)\n",
      "\u001b[1;32mc:\\Users\\kaan9\\OneDrive\\Masaüstü\\EC\\evoman_framework-master\\keras_ea.ipynb Cell 12\u001b[0m line \u001b[0;36m1\n\u001b[0;32m     <a href='vscode-notebook-cell:/c%3A/Users/kaan9/OneDrive/Masa%C3%BCst%C3%BC/EC/evoman_framework-master/keras_ea.ipynb#X15sZmlsZQ%3D%3D?line=9'>10</a>\u001b[0m inputs \u001b[39m=\u001b[39m np\u001b[39m.\u001b[39marray(inputs)\u001b[39m.\u001b[39mreshape((\u001b[39m1\u001b[39m,\u001b[39m20\u001b[39m,))\n\u001b[0;32m     <a href='vscode-notebook-cell:/c%3A/Users/kaan9/OneDrive/Masa%C3%BCst%C3%BC/EC/evoman_framework-master/keras_ea.ipynb#X15sZmlsZQ%3D%3D?line=11'>12</a>\u001b[0m sol \u001b[39m=\u001b[39m model_weights_as_matrix(\u001b[39mself\u001b[39m\u001b[39m.\u001b[39mmodel,controller)\n\u001b[1;32m---> <a href='vscode-notebook-cell:/c%3A/Users/kaan9/OneDrive/Masa%C3%BCst%C3%BC/EC/evoman_framework-master/keras_ea.ipynb#X15sZmlsZQ%3D%3D?line=12'>13</a>\u001b[0m \u001b[39mself\u001b[39;49m\u001b[39m.\u001b[39;49mmodel\u001b[39m.\u001b[39;49mset_weights(sol)\n\u001b[0;32m     <a href='vscode-notebook-cell:/c%3A/Users/kaan9/OneDrive/Masa%C3%BCst%C3%BC/EC/evoman_framework-master/keras_ea.ipynb#X15sZmlsZQ%3D%3D?line=13'>14</a>\u001b[0m preds \u001b[39m=\u001b[39m \u001b[39mself\u001b[39m\u001b[39m.\u001b[39mmodel\u001b[39m.\u001b[39mpredict(inputs,verbose\u001b[39m=\u001b[39m\u001b[39m0\u001b[39m)\n\u001b[0;32m     <a href='vscode-notebook-cell:/c%3A/Users/kaan9/OneDrive/Masa%C3%BCst%C3%BC/EC/evoman_framework-master/keras_ea.ipynb#X15sZmlsZQ%3D%3D?line=14'>15</a>\u001b[0m preds \u001b[39m=\u001b[39m (preds\u001b[39m>\u001b[39m\u001b[39m0.5\u001b[39m)\u001b[39m.\u001b[39mastype(\u001b[39mint\u001b[39m)\n",
      "File \u001b[1;32m~\\AppData\\Local\\Packages\\PythonSoftwareFoundation.Python.3.11_qbz5n2kfra8p0\\LocalCache\\local-packages\\Python311\\site-packages\\keras\\src\\engine\\base_layer_v1.py:1402\u001b[0m, in \u001b[0;36mLayer.set_weights\u001b[1;34m(self, weights)\u001b[0m\n\u001b[0;32m   1399\u001b[0m         weight_value_tuples\u001b[39m.\u001b[39mappend((param, weight))\n\u001b[0;32m   1400\u001b[0m         weight_index \u001b[39m+\u001b[39m\u001b[39m=\u001b[39m \u001b[39m1\u001b[39m\n\u001b[1;32m-> 1402\u001b[0m backend\u001b[39m.\u001b[39;49mbatch_set_value(weight_value_tuples)\n",
      "File \u001b[1;32m~\\AppData\\Local\\Packages\\PythonSoftwareFoundation.Python.3.11_qbz5n2kfra8p0\\LocalCache\\local-packages\\Python311\\site-packages\\tensorflow\\python\\util\\traceback_utils.py:150\u001b[0m, in \u001b[0;36mfilter_traceback.<locals>.error_handler\u001b[1;34m(*args, **kwargs)\u001b[0m\n\u001b[0;32m    148\u001b[0m filtered_tb \u001b[39m=\u001b[39m \u001b[39mNone\u001b[39;00m\n\u001b[0;32m    149\u001b[0m \u001b[39mtry\u001b[39;00m:\n\u001b[1;32m--> 150\u001b[0m   \u001b[39mreturn\u001b[39;00m fn(\u001b[39m*\u001b[39;49margs, \u001b[39m*\u001b[39;49m\u001b[39m*\u001b[39;49mkwargs)\n\u001b[0;32m    151\u001b[0m \u001b[39mexcept\u001b[39;00m \u001b[39mException\u001b[39;00m \u001b[39mas\u001b[39;00m e:\n\u001b[0;32m    152\u001b[0m   filtered_tb \u001b[39m=\u001b[39m _process_traceback_frames(e\u001b[39m.\u001b[39m__traceback__)\n",
      "File \u001b[1;32m~\\AppData\\Local\\Packages\\PythonSoftwareFoundation.Python.3.11_qbz5n2kfra8p0\\LocalCache\\local-packages\\Python311\\site-packages\\tensorflow\\python\\util\\dispatch.py:1176\u001b[0m, in \u001b[0;36madd_dispatch_support.<locals>.decorator.<locals>.op_dispatch_handler\u001b[1;34m(*args, **kwargs)\u001b[0m\n\u001b[0;32m   1174\u001b[0m \u001b[39m# Fallback dispatch system (dispatch v1):\u001b[39;00m\n\u001b[0;32m   1175\u001b[0m \u001b[39mtry\u001b[39;00m:\n\u001b[1;32m-> 1176\u001b[0m   \u001b[39mreturn\u001b[39;00m dispatch_target(\u001b[39m*\u001b[39;49margs, \u001b[39m*\u001b[39;49m\u001b[39m*\u001b[39;49mkwargs)\n\u001b[0;32m   1177\u001b[0m \u001b[39mexcept\u001b[39;00m (\u001b[39mTypeError\u001b[39;00m, \u001b[39mValueError\u001b[39;00m):\n\u001b[0;32m   1178\u001b[0m   \u001b[39m# Note: convert_to_eager_tensor currently raises a ValueError, not a\u001b[39;00m\n\u001b[0;32m   1179\u001b[0m   \u001b[39m# TypeError, when given unexpected types.  So we need to catch both.\u001b[39;00m\n\u001b[0;32m   1180\u001b[0m   result \u001b[39m=\u001b[39m dispatch(op_dispatch_handler, args, kwargs)\n",
      "File \u001b[1;32m~\\AppData\\Local\\Packages\\PythonSoftwareFoundation.Python.3.11_qbz5n2kfra8p0\\LocalCache\\local-packages\\Python311\\site-packages\\keras\\src\\backend.py:4340\u001b[0m, in \u001b[0;36mbatch_set_value\u001b[1;34m(tuples)\u001b[0m\n\u001b[0;32m   4338\u001b[0m     assign_ops\u001b[39m.\u001b[39mappend(assign_op)\n\u001b[0;32m   4339\u001b[0m     feed_dict[assign_placeholder] \u001b[39m=\u001b[39m value\n\u001b[1;32m-> 4340\u001b[0m get_session()\u001b[39m.\u001b[39;49mrun(assign_ops, feed_dict\u001b[39m=\u001b[39;49mfeed_dict)\n",
      "File \u001b[1;32m~\\AppData\\Local\\Packages\\PythonSoftwareFoundation.Python.3.11_qbz5n2kfra8p0\\LocalCache\\local-packages\\Python311\\site-packages\\tensorflow\\python\\client\\session.py:969\u001b[0m, in \u001b[0;36mBaseSession.run\u001b[1;34m(self, fetches, feed_dict, options, run_metadata)\u001b[0m\n\u001b[0;32m    966\u001b[0m run_metadata_ptr \u001b[39m=\u001b[39m tf_session\u001b[39m.\u001b[39mTF_NewBuffer() \u001b[39mif\u001b[39;00m run_metadata \u001b[39melse\u001b[39;00m \u001b[39mNone\u001b[39;00m\n\u001b[0;32m    968\u001b[0m \u001b[39mtry\u001b[39;00m:\n\u001b[1;32m--> 969\u001b[0m   result \u001b[39m=\u001b[39m \u001b[39mself\u001b[39;49m\u001b[39m.\u001b[39;49m_run(\u001b[39mNone\u001b[39;49;00m, fetches, feed_dict, options_ptr,\n\u001b[0;32m    970\u001b[0m                      run_metadata_ptr)\n\u001b[0;32m    971\u001b[0m   \u001b[39mif\u001b[39;00m run_metadata:\n\u001b[0;32m    972\u001b[0m     proto_data \u001b[39m=\u001b[39m tf_session\u001b[39m.\u001b[39mTF_GetBuffer(run_metadata_ptr)\n",
      "File \u001b[1;32m~\\AppData\\Local\\Packages\\PythonSoftwareFoundation.Python.3.11_qbz5n2kfra8p0\\LocalCache\\local-packages\\Python311\\site-packages\\tensorflow\\python\\client\\session.py:1192\u001b[0m, in \u001b[0;36mBaseSession._run\u001b[1;34m(self, handle, fetches, feed_dict, options, run_metadata)\u001b[0m\n\u001b[0;32m   1189\u001b[0m \u001b[39m# We only want to really perform the run if fetches or targets are provided,\u001b[39;00m\n\u001b[0;32m   1190\u001b[0m \u001b[39m# or if the call is a partial run that specifies feeds.\u001b[39;00m\n\u001b[0;32m   1191\u001b[0m \u001b[39mif\u001b[39;00m final_fetches \u001b[39mor\u001b[39;00m final_targets \u001b[39mor\u001b[39;00m (handle \u001b[39mand\u001b[39;00m feed_dict_tensor):\n\u001b[1;32m-> 1192\u001b[0m   results \u001b[39m=\u001b[39m \u001b[39mself\u001b[39;49m\u001b[39m.\u001b[39;49m_do_run(handle, final_targets, final_fetches,\n\u001b[0;32m   1193\u001b[0m                          feed_dict_tensor, options, run_metadata)\n\u001b[0;32m   1194\u001b[0m \u001b[39melse\u001b[39;00m:\n\u001b[0;32m   1195\u001b[0m   results \u001b[39m=\u001b[39m []\n",
      "File \u001b[1;32m~\\AppData\\Local\\Packages\\PythonSoftwareFoundation.Python.3.11_qbz5n2kfra8p0\\LocalCache\\local-packages\\Python311\\site-packages\\tensorflow\\python\\client\\session.py:1372\u001b[0m, in \u001b[0;36mBaseSession._do_run\u001b[1;34m(self, handle, target_list, fetch_list, feed_dict, options, run_metadata)\u001b[0m\n\u001b[0;32m   1369\u001b[0m   \u001b[39mreturn\u001b[39;00m \u001b[39mself\u001b[39m\u001b[39m.\u001b[39m_call_tf_sessionprun(handle, feed_dict, fetch_list)\n\u001b[0;32m   1371\u001b[0m \u001b[39mif\u001b[39;00m handle \u001b[39mis\u001b[39;00m \u001b[39mNone\u001b[39;00m:\n\u001b[1;32m-> 1372\u001b[0m   \u001b[39mreturn\u001b[39;00m \u001b[39mself\u001b[39;49m\u001b[39m.\u001b[39;49m_do_call(_run_fn, feeds, fetches, targets, options,\n\u001b[0;32m   1373\u001b[0m                        run_metadata)\n\u001b[0;32m   1374\u001b[0m \u001b[39melse\u001b[39;00m:\n\u001b[0;32m   1375\u001b[0m   \u001b[39mreturn\u001b[39;00m \u001b[39mself\u001b[39m\u001b[39m.\u001b[39m_do_call(_prun_fn, handle, feeds, fetches)\n",
      "File \u001b[1;32m~\\AppData\\Local\\Packages\\PythonSoftwareFoundation.Python.3.11_qbz5n2kfra8p0\\LocalCache\\local-packages\\Python311\\site-packages\\tensorflow\\python\\client\\session.py:1379\u001b[0m, in \u001b[0;36mBaseSession._do_call\u001b[1;34m(self, fn, *args)\u001b[0m\n\u001b[0;32m   1377\u001b[0m \u001b[39mdef\u001b[39;00m \u001b[39m_do_call\u001b[39m(\u001b[39mself\u001b[39m, fn, \u001b[39m*\u001b[39margs):\n\u001b[0;32m   1378\u001b[0m   \u001b[39mtry\u001b[39;00m:\n\u001b[1;32m-> 1379\u001b[0m     \u001b[39mreturn\u001b[39;00m fn(\u001b[39m*\u001b[39;49margs)\n\u001b[0;32m   1380\u001b[0m   \u001b[39mexcept\u001b[39;00m errors\u001b[39m.\u001b[39mOpError \u001b[39mas\u001b[39;00m e:\n\u001b[0;32m   1381\u001b[0m     message \u001b[39m=\u001b[39m compat\u001b[39m.\u001b[39mas_text(e\u001b[39m.\u001b[39mmessage)\n",
      "File \u001b[1;32m~\\AppData\\Local\\Packages\\PythonSoftwareFoundation.Python.3.11_qbz5n2kfra8p0\\LocalCache\\local-packages\\Python311\\site-packages\\tensorflow\\python\\client\\session.py:1362\u001b[0m, in \u001b[0;36mBaseSession._do_run.<locals>._run_fn\u001b[1;34m(feed_dict, fetch_list, target_list, options, run_metadata)\u001b[0m\n\u001b[0;32m   1359\u001b[0m \u001b[39mdef\u001b[39;00m \u001b[39m_run_fn\u001b[39m(feed_dict, fetch_list, target_list, options, run_metadata):\n\u001b[0;32m   1360\u001b[0m   \u001b[39m# Ensure any changes to the graph are reflected in the runtime.\u001b[39;00m\n\u001b[0;32m   1361\u001b[0m   \u001b[39mself\u001b[39m\u001b[39m.\u001b[39m_extend_graph()\n\u001b[1;32m-> 1362\u001b[0m   \u001b[39mreturn\u001b[39;00m \u001b[39mself\u001b[39;49m\u001b[39m.\u001b[39;49m_call_tf_sessionrun(options, feed_dict, fetch_list,\n\u001b[0;32m   1363\u001b[0m                                   target_list, run_metadata)\n",
      "File \u001b[1;32m~\\AppData\\Local\\Packages\\PythonSoftwareFoundation.Python.3.11_qbz5n2kfra8p0\\LocalCache\\local-packages\\Python311\\site-packages\\tensorflow\\python\\client\\session.py:1455\u001b[0m, in \u001b[0;36mBaseSession._call_tf_sessionrun\u001b[1;34m(self, options, feed_dict, fetch_list, target_list, run_metadata)\u001b[0m\n\u001b[0;32m   1453\u001b[0m \u001b[39mdef\u001b[39;00m \u001b[39m_call_tf_sessionrun\u001b[39m(\u001b[39mself\u001b[39m, options, feed_dict, fetch_list, target_list,\n\u001b[0;32m   1454\u001b[0m                         run_metadata):\n\u001b[1;32m-> 1455\u001b[0m   \u001b[39mreturn\u001b[39;00m tf_session\u001b[39m.\u001b[39;49mTF_SessionRun_wrapper(\u001b[39mself\u001b[39;49m\u001b[39m.\u001b[39;49m_session, options, feed_dict,\n\u001b[0;32m   1456\u001b[0m                                           fetch_list, target_list,\n\u001b[0;32m   1457\u001b[0m                                           run_metadata)\n",
      "\u001b[1;31mKeyboardInterrupt\u001b[0m: "
     ]
    }
   ],
   "source": [
    "pop, log = algorithms.eaSimple(pop, toolbox, cxpb=0.8, mutpb=0.2, ngen=10, halloffame=hof, stats=stats,verbose=True)"
   ]
  },
  {
   "cell_type": "code",
   "execution_count": null,
   "metadata": {},
   "outputs": [],
   "source": []
  }
 ],
 "metadata": {
  "kernelspec": {
   "display_name": "Python 3",
   "language": "python",
   "name": "python3"
  },
  "language_info": {
   "codemirror_mode": {
    "name": "ipython",
    "version": 3
   },
   "file_extension": ".py",
   "mimetype": "text/x-python",
   "name": "python",
   "nbconvert_exporter": "python",
   "pygments_lexer": "ipython3",
   "version": "3.11.5"
  },
  "orig_nbformat": 4
 },
 "nbformat": 4,
 "nbformat_minor": 2
}
