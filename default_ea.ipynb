{
 "cells": [
  {
   "cell_type": "code",
   "execution_count": 1,
   "metadata": {},
   "outputs": [
    {
     "name": "stdout",
     "output_type": "stream",
     "text": [
      "pygame 2.5.1 (SDL 2.28.2, Python 3.11.5)\n",
      "Hello from the pygame community. https://www.pygame.org/contribute.html\n"
     ]
    }
   ],
   "source": [
    "import sys, os\n",
    "import numpy as np\n",
    "\n",
    "import random\n",
    "from evoman.environment import Environment\n",
    "from evoman.controller import Controller\n",
    "from pygad.kerasga import model_weights_as_vector,model_weights_as_matrix"
   ]
  },
  {
   "cell_type": "code",
   "execution_count": 13,
   "metadata": {},
   "outputs": [],
   "source": [
    "def sigmoid_activation(x):\n",
    "\treturn 1./(1.+np.exp(-x))\n",
    "\n",
    "\n",
    "class player_controller(Controller):\n",
    "\tdef __init__(self, _n_hidden):\n",
    "\t\tself.n_hidden = [_n_hidden]\n",
    "\n",
    "\tdef set(self,controller, n_inputs):\n",
    "\t\t# Number of hidden neurons\n",
    "\t\t\n",
    "\t\tif self.n_hidden[0] > 0:\n",
    "\t\t\t# Preparing the weights and biases from the controller of layer 1\n",
    "\n",
    "\t\t\t# Biases for the n hidden neurons\n",
    "\t\t\tself.bias1 = controller[:self.n_hidden[0]].reshape(1, self.n_hidden[0])\n",
    "\t\t\t# Weights for the connections from the inputs to the hidden nodes\n",
    "\t\t\tweights1_slice = n_inputs * self.n_hidden[0] + self.n_hidden[0]\n",
    "\t\t\tself.weights1 = controller[self.n_hidden[0]:weights1_slice].reshape((n_inputs, self.n_hidden[0]))\n",
    "\n",
    "\t\t\t# Outputs activation first layer.\n",
    "\n",
    "\n",
    "\t\t\t# Preparing the weights and biases from the controller of layer 2\n",
    "\t\t\tself.bias2 = controller[weights1_slice:weights1_slice + 5].reshape(1, 5)\n",
    "\t\t\tself.weights2 = controller[weights1_slice + 5:].reshape((self.n_hidden[0], 5))\n",
    "\n",
    "\tdef control(self, inputs, controller):\n",
    "\t\t# Normalises the input using min-max scaling\n",
    "\t\tinputs = (inputs-min(inputs))/float((max(inputs)-min(inputs)))\n",
    "\t\tcontroller = np.array(controller)\n",
    "\t\t\n",
    "\t\tif self.n_hidden[0]>0:\n",
    "\t\t\t# Preparing the weights and biases from the controller of layer 1\n",
    "\n",
    "\t\t\t# Outputs activation first layer.\n",
    "\t\t\toutput1 = sigmoid_activation(inputs.dot(self.weights1) + self.bias1)\n",
    "\n",
    "\t\t\t# Outputting activated second layer. Each entry in the output is an action\n",
    "\t\t\toutput = sigmoid_activation(output1.dot(self.weights2)+ self.bias2)[0]\n",
    "\t\telse:\n",
    "\t\t\tbias = controller[:5].reshape(1, 5)\n",
    "\t\t\tweights = controller[5:].reshape((len(inputs), 5))\n",
    "\n",
    "\t\t\toutput = sigmoid_activation(inputs.dot(weights) + bias)[0]\n",
    "\n",
    "\t\t# takes decisions about sprite actions\n",
    "\t\tif output[0] > 0.5:\n",
    "\t\t\tleft = 1\n",
    "\t\telse:\n",
    "\t\t\tleft = 0\n",
    "\n",
    "\t\tif output[1] > 0.5:\n",
    "\t\t\tright = 1\n",
    "\t\telse:\n",
    "\t\t\tright = 0\n",
    "\n",
    "\t\tif output[2] > 0.5:\n",
    "\t\t\tjump = 1\n",
    "\t\telse:\n",
    "\t\t\tjump = 0\n",
    "\n",
    "\t\tif output[3] > 0.5:\n",
    "\t\t\tshoot = 1\n",
    "\t\telse:\n",
    "\t\t\tshoot = 0\n",
    "\n",
    "\t\tif output[4] > 0.5:\n",
    "\t\t\trelease = 1\n",
    "\t\telse:\n",
    "\t\t\trelease = 0\n",
    "\n",
    "\t\treturn [left, right, jump, shoot, release]"
   ]
  },
  {
   "cell_type": "code",
   "execution_count": 14,
   "metadata": {},
   "outputs": [],
   "source": [
    "def fitness_function(solution):\n",
    "    return (env.play(solution)[0],)"
   ]
  },
  {
   "cell_type": "code",
   "execution_count": 15,
   "metadata": {},
   "outputs": [
    {
     "name": "stdout",
     "output_type": "stream",
     "text": [
      "\n",
      "MESSAGE: Pygame initialized for simulation.\n"
     ]
    }
   ],
   "source": [
    "headless = True\n",
    "if headless:\n",
    "    os.environ[\"SDL_VIDEODRIVER\"] = \"dummy\"\n",
    "\n",
    "env = Environment(playermode=\"ai\",\n",
    "\t\t\t\t  player_controller=player_controller(0),\n",
    "\t\t\t  \t  speed=\"fastest\",\n",
    "\t\t\t\t  enemymode=\"static\",\n",
    "                  enemies=\"1\",\n",
    "\t\t\t\t  level=2,\n",
    "                  visuals=True)"
   ]
  },
  {
   "cell_type": "code",
   "execution_count": 16,
   "metadata": {},
   "outputs": [],
   "source": [
    "from deap import base, creator, tools, algorithms"
   ]
  },
  {
   "cell_type": "code",
   "execution_count": 17,
   "metadata": {},
   "outputs": [],
   "source": [
    "individual_size = 105"
   ]
  },
  {
   "cell_type": "code",
   "execution_count": 18,
   "metadata": {},
   "outputs": [
    {
     "name": "stderr",
     "output_type": "stream",
     "text": [
      "C:\\Users\\kaan9\\AppData\\Local\\Packages\\PythonSoftwareFoundation.Python.3.11_qbz5n2kfra8p0\\LocalCache\\local-packages\\Python311\\site-packages\\deap\\creator.py:185: RuntimeWarning: A class named 'FitnessMax' has already been created and it will be overwritten. Consider deleting previous creation of that class or rename it.\n",
      "  warnings.warn(\"A class named '{0}' has already been created and it \"\n",
      "C:\\Users\\kaan9\\AppData\\Local\\Packages\\PythonSoftwareFoundation.Python.3.11_qbz5n2kfra8p0\\LocalCache\\local-packages\\Python311\\site-packages\\deap\\creator.py:185: RuntimeWarning: A class named 'Individual' has already been created and it will be overwritten. Consider deleting previous creation of that class or rename it.\n",
      "  warnings.warn(\"A class named '{0}' has already been created and it \"\n"
     ]
    }
   ],
   "source": [
    "creator.create(\"FitnessMax\", base.Fitness, weights=(1.0,))\n",
    "creator.create(\"Individual\", list, fitness=creator.FitnessMax)"
   ]
  },
  {
   "cell_type": "code",
   "execution_count": 19,
   "metadata": {},
   "outputs": [],
   "source": [
    "toolbox = base.Toolbox()\n",
    "toolbox.register(\"weight_bin\", np.random.uniform,-1,1)   #Initiate weights from uniform distribution between -1 to +1\n",
    "toolbox.register(\"individual\", tools.initRepeat, creator.Individual, toolbox.weight_bin, n=individual_size)\n",
    "toolbox.register(\"population\", tools.initRepeat, list, toolbox.individual)\n"
   ]
  },
  {
   "cell_type": "code",
   "execution_count": 20,
   "metadata": {},
   "outputs": [],
   "source": [
    "toolbox.register(\"mate\", tools.cxTwoPoint)\n",
    "toolbox.register(\"mutate\", tools.mutFlipBit, indpb=0.01)\n",
    "toolbox.register(\"select\", tools.selTournament, tournsize=3)\n",
    "toolbox.register(\"evaluate\", fitness_function)"
   ]
  },
  {
   "cell_type": "code",
   "execution_count": 21,
   "metadata": {},
   "outputs": [],
   "source": [
    "stats = tools.Statistics(lambda ind: ind.fitness.values)\n",
    "stats.register(\"Mean\", np.mean)\n",
    "stats.register(\"Max\", np.max)\n",
    "stats.register(\"Min\", np.min)"
   ]
  },
  {
   "cell_type": "code",
   "execution_count": 22,
   "metadata": {},
   "outputs": [],
   "source": [
    "pop = toolbox.population(n=100)\n",
    "hof = tools.HallOfFame(1)"
   ]
  },
  {
   "cell_type": "code",
   "execution_count": 23,
   "metadata": {},
   "outputs": [
    {
     "name": "stdout",
     "output_type": "stream",
     "text": [
      "gen\tnevals\tMean    \tMax    \tMin     \n",
      "0  \t100   \t-2.82695\t39.1799\t-6.51915\n",
      "1  \t83    \t1.45574 \t57.0135\t-6.46147\n",
      "2  \t84    \t7.38284 \t57.0236\t-6.32794\n",
      "3  \t92    \t14.9217 \t57.1279\t-6.83948\n",
      "4  \t78    \t25.1505 \t57.0865\t-6.00881\n",
      "5  \t85    \t36.2169 \t89.607 \t-5.8693 \n",
      "6  \t85    \t35.5338 \t75.1251\t-6.02345\n",
      "7  \t91    \t41.5205 \t75.1251\t-6.44572\n",
      "8  \t82    \t46.1013 \t75.1565\t-6.42325\n",
      "9  \t85    \t43.6132 \t75.1565\t-6.02345\n",
      "10 \t85    \t50.4395 \t75.1565\t-5.76205\n"
     ]
    }
   ],
   "source": [
    "pop, log = algorithms.eaSimple(pop, toolbox, cxpb=0.8, mutpb=0.2, ngen=10, halloffame=hof, stats=stats,verbose=True)"
   ]
  },
  {
   "cell_type": "code",
   "execution_count": null,
   "metadata": {},
   "outputs": [],
   "source": []
  }
 ],
 "metadata": {
  "kernelspec": {
   "display_name": "Python 3",
   "language": "python",
   "name": "python3"
  },
  "language_info": {
   "codemirror_mode": {
    "name": "ipython",
    "version": 3
   },
   "file_extension": ".py",
   "mimetype": "text/x-python",
   "name": "python",
   "nbconvert_exporter": "python",
   "pygments_lexer": "ipython3",
   "version": "3.11.5"
  },
  "orig_nbformat": 4
 },
 "nbformat": 4,
 "nbformat_minor": 2
}
