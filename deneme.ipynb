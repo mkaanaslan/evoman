{
 "cells": [
  {
   "cell_type": "code",
   "execution_count": 1,
   "metadata": {},
   "outputs": [
    {
     "name": "stdout",
     "output_type": "stream",
     "text": [
      "pygame 2.5.1 (SDL 2.28.2, Python 3.11.5)\n",
      "Hello from the pygame community. https://www.pygame.org/contribute.html\n"
     ]
    }
   ],
   "source": [
    "import sys, os\n",
    "import numpy as np\n",
    "\n",
    "from evoman.environment import Environment\n",
    "from evoman.controller import Controller"
   ]
  },
  {
   "cell_type": "code",
   "execution_count": 14,
   "metadata": {},
   "outputs": [
    {
     "data": {
      "text/plain": [
       "(20, 16)"
      ]
     },
     "execution_count": 14,
     "metadata": {},
     "output_type": "execute_result"
    }
   ],
   "source": [
    "model.get_weights()[0].shape"
   ]
  },
  {
   "cell_type": "code",
   "execution_count": 2,
   "metadata": {},
   "outputs": [],
   "source": [
    "def weights_matrix(model,solution):\n",
    "\n",
    "    weights = solution[5:]\n",
    "    bias = solution[:5]\n",
    "\n",
    "    weigths_matrix = [weights.reshape(model.get_weights()[0].shape),bias.reshape(model.get_weights()[1].shape)]\n",
    "\n",
    "    return weigths_matrix\n",
    "\n",
    "def weights_matrix_to_vector(matrix):\n",
    "    return np.concatenate([matrix[1],matrix[0].reshape(-1,)])\n",
    "    "
   ]
  },
  {
   "cell_type": "code",
   "execution_count": 3,
   "metadata": {},
   "outputs": [],
   "source": [
    "class player_controller(Controller):\n",
    "\n",
    "\tdef __init__(self, model):\n",
    "\t\tself.model = model\n",
    "\n",
    "\tdef control(self, inputs, controller):\n",
    "\n",
    "\t\t# Normalises the input using min-max scaling\n",
    "\t\tinputs = (inputs-min(inputs))/float((max(inputs)-min(inputs)))\n",
    "\t\tinputs = np.array(inputs).reshape((1,20,))\n",
    "\n",
    "\t\tsol = weights_matrix(self.model,controller)\n",
    "\t\tself.model.set_weights(sol)\n",
    "\t\tpreds = self.model.predict(inputs,verbose=0)\n",
    "\t\tpreds = (preds>0.5).astype(int)\n",
    "\n",
    "\t\treturn preds[0]"
   ]
  },
  {
   "cell_type": "code",
   "execution_count": 4,
   "metadata": {},
   "outputs": [],
   "source": [
    "headless = True\n",
    "if headless:\n",
    "    os.environ[\"SDL_VIDEODRIVER\"] = \"dummy\"\n",
    "\n",
    "experiment_name = 'controller_specialist_demo'\n",
    "if not os.path.exists(experiment_name):\n",
    "    os.makedirs(experiment_name)"
   ]
  },
  {
   "cell_type": "code",
   "execution_count": 6,
   "metadata": {},
   "outputs": [],
   "source": [
    "import tensorflow as tf\n",
    "\n",
    "tf.compat.v1.disable_eager_execution()\n",
    "\n",
    "input_layer  = tf.keras.layers.Input((20,))\n",
    "dense_layer1 = tf.keras.layers.Dense(16, activation=\"relu\")(input_layer)\n",
    "output_layer = tf.keras.layers.Dense(5, activation=\"sigmoid\")(dense_layer1)\n",
    "\n",
    "model = tf.keras.Model(inputs=input_layer, outputs=output_layer)"
   ]
  },
  {
   "cell_type": "code",
   "execution_count": 7,
   "metadata": {},
   "outputs": [
    {
     "name": "stdout",
     "output_type": "stream",
     "text": [
      "\n",
      "MESSAGE: Pygame initialized for simulation.\n"
     ]
    }
   ],
   "source": [
    "env = Environment(experiment_name=experiment_name,\n",
    "\t\t\t\t  playermode=\"ai\",\n",
    "\t\t\t\t  player_controller=player_controller(model),\n",
    "\t\t\t  \t  speed=\"fastest\",\n",
    "\t\t\t\t  enemymode=\"static\",\n",
    "                  #enemies=\"0\",\n",
    "\t\t\t\t  level=2,\n",
    "                  visuals=True)"
   ]
  },
  {
   "cell_type": "code",
   "execution_count": 8,
   "metadata": {},
   "outputs": [],
   "source": [
    "sol = weights_matrix_to_vector(model.get_weights())"
   ]
  },
  {
   "cell_type": "code",
   "execution_count": 10,
   "metadata": {},
   "outputs": [
    {
     "name": "stdout",
     "output_type": "stream",
     "text": [
      "\n",
      "PARAMETER CHANGE: enemies = [1]\n"
     ]
    }
   ],
   "source": [
    "env.update_parameter('enemies',[1])"
   ]
  },
  {
   "cell_type": "code",
   "execution_count": 10,
   "metadata": {},
   "outputs": [],
   "source": [
    "sol = np.loadtxt('solutions_demo/demo_'+str(1)+'.txt')"
   ]
  },
  {
   "cell_type": "code",
   "execution_count": 11,
   "metadata": {},
   "outputs": [
    {
     "ename": "ValueError",
     "evalue": "cannot reshape array of size 331 into shape (20,16)",
     "output_type": "error",
     "traceback": [
      "\u001b[1;31m---------------------------------------------------------------------------\u001b[0m",
      "\u001b[1;31mValueError\u001b[0m                                Traceback (most recent call last)",
      "\u001b[1;32mc:\\Users\\kaan9\\OneDrive\\Masaüstü\\EC\\evoman_framework-master\\deneme.ipynb Cell 10\u001b[0m line \u001b[0;36m1\n\u001b[1;32m----> <a href='vscode-notebook-cell:/c%3A/Users/kaan9/OneDrive/Masa%C3%BCst%C3%BC/EC/evoman_framework-master/deneme.ipynb#W6sZmlsZQ%3D%3D?line=0'>1</a>\u001b[0m env\u001b[39m.\u001b[39;49mplay(sol)\n",
      "File \u001b[1;32mc:\\Users\\kaan9\\OneDrive\\Masaüstü\\EC\\evoman_framework-master\\evoman\\environment.py:621\u001b[0m, in \u001b[0;36mEnvironment.play\u001b[1;34m(self, pcont, econt)\u001b[0m\n\u001b[0;32m    619\u001b[0m     \u001b[39mreturn\u001b[39;00m \u001b[39mself\u001b[39m\u001b[39m.\u001b[39mmultiple(pcont,econt)\n\u001b[0;32m    620\u001b[0m \u001b[39melse\u001b[39;00m:\n\u001b[1;32m--> 621\u001b[0m     \u001b[39mreturn\u001b[39;00m \u001b[39mself\u001b[39;49m\u001b[39m.\u001b[39;49mrun_single(\u001b[39mself\u001b[39;49m\u001b[39m.\u001b[39;49menemies[\u001b[39m0\u001b[39;49m],pcont,econt)\n",
      "File \u001b[1;32mc:\\Users\\kaan9\\OneDrive\\Masaüstü\\EC\\evoman_framework-master\\evoman\\environment.py:486\u001b[0m, in \u001b[0;36mEnvironment.run_single\u001b[1;34m(self, enemyn, pcont, econt)\u001b[0m\n\u001b[0;32m    483\u001b[0m         \u001b[39mreturn\u001b[39;00m\n\u001b[0;32m    485\u001b[0m \u001b[39m# updates objects and draws its itens on screen\u001b[39;00m\n\u001b[1;32m--> 486\u001b[0m \u001b[39mself\u001b[39;49m\u001b[39m.\u001b[39;49mtilemap\u001b[39m.\u001b[39;49mupdate( \u001b[39m33\u001b[39;49m \u001b[39m/\u001b[39;49m \u001b[39m1000.\u001b[39;49m, \u001b[39mself\u001b[39;49m)\n\u001b[0;32m    488\u001b[0m \u001b[39mif\u001b[39;00m \u001b[39mself\u001b[39m\u001b[39m.\u001b[39mvisuals:\n\u001b[0;32m    490\u001b[0m     \u001b[39mself\u001b[39m\u001b[39m.\u001b[39mscreen\u001b[39m.\u001b[39mfill((\u001b[39m250\u001b[39m,\u001b[39m250\u001b[39m,\u001b[39m250\u001b[39m))\n",
      "File \u001b[1;32mc:\\Users\\kaan9\\OneDrive\\Masaüstü\\EC\\evoman_framework-master\\evoman\\tmx.py:706\u001b[0m, in \u001b[0;36mTileMap.update\u001b[1;34m(self, dt, *args)\u001b[0m\n\u001b[0;32m    704\u001b[0m \u001b[39mdef\u001b[39;00m \u001b[39mupdate\u001b[39m(\u001b[39mself\u001b[39m, dt, \u001b[39m*\u001b[39margs):\n\u001b[0;32m    705\u001b[0m     \u001b[39mfor\u001b[39;00m layer \u001b[39min\u001b[39;00m \u001b[39mself\u001b[39m\u001b[39m.\u001b[39mlayers:\n\u001b[1;32m--> 706\u001b[0m         layer\u001b[39m.\u001b[39;49mupdate(dt, \u001b[39m*\u001b[39;49margs)\n",
      "File \u001b[1;32m~\\AppData\\Local\\Packages\\PythonSoftwareFoundation.Python.3.11_qbz5n2kfra8p0\\LocalCache\\local-packages\\Python311\\site-packages\\pygame\\sprite.py:555\u001b[0m, in \u001b[0;36mAbstractGroup.update\u001b[1;34m(self, *args, **kwargs)\u001b[0m\n\u001b[0;32m    546\u001b[0m \u001b[39m\u001b[39m\u001b[39m\"\"\"call the update method of every member sprite\u001b[39;00m\n\u001b[0;32m    547\u001b[0m \n\u001b[0;32m    548\u001b[0m \u001b[39mGroup.update(*args, **kwargs): return None\u001b[39;00m\n\u001b[1;32m   (...)\u001b[0m\n\u001b[0;32m    552\u001b[0m \n\u001b[0;32m    553\u001b[0m \u001b[39m\"\"\"\u001b[39;00m\n\u001b[0;32m    554\u001b[0m \u001b[39mfor\u001b[39;00m sprite \u001b[39min\u001b[39;00m \u001b[39mself\u001b[39m\u001b[39m.\u001b[39msprites():\n\u001b[1;32m--> 555\u001b[0m     sprite\u001b[39m.\u001b[39;49mupdate(\u001b[39m*\u001b[39;49margs, \u001b[39m*\u001b[39;49m\u001b[39m*\u001b[39;49mkwargs)\n",
      "File \u001b[1;32mc:\\Users\\kaan9\\OneDrive\\Masaüstü\\EC\\evoman_framework-master\\evoman\\player.py:110\u001b[0m, in \u001b[0;36mPlayer.update\u001b[1;34m(self, dt, game)\u001b[0m\n\u001b[0;32m    107\u001b[0m     \u001b[39mself\u001b[39m\u001b[39m.\u001b[39mvy \u001b[39m=\u001b[39m \u001b[39m1\u001b[39m\n\u001b[0;32m    108\u001b[0m     \u001b[39mself\u001b[39m\u001b[39m.\u001b[39mhy \u001b[39m=\u001b[39m \u001b[39m-\u001b[39m\u001b[39m900\u001b[39m\n\u001b[1;32m--> 110\u001b[0m jump, left, release, right, shoot \u001b[39m=\u001b[39m \u001b[39mself\u001b[39;49m\u001b[39m.\u001b[39;49mget_input(game)\n\u001b[0;32m    112\u001b[0m \u001b[39m# if the button is released before the jumping maximum height, them player stops going up.\u001b[39;00m\n\u001b[0;32m    113\u001b[0m \u001b[39mif\u001b[39;00m release \u001b[39m==\u001b[39m \u001b[39m1\u001b[39m \u001b[39mand\u001b[39;00m \u001b[39mself\u001b[39m\u001b[39m.\u001b[39mresting \u001b[39m==\u001b[39m \u001b[39m0\u001b[39m:\n",
      "File \u001b[1;32mc:\\Users\\kaan9\\OneDrive\\Masaüstü\\EC\\evoman_framework-master\\evoman\\player.py:175\u001b[0m, in \u001b[0;36mPlayer.get_input\u001b[1;34m(self, game)\u001b[0m\n\u001b[0;32m    171\u001b[0m     jump, left, release, right, shoot \u001b[39m=\u001b[39m \u001b[39mself\u001b[39m\u001b[39m.\u001b[39mhuman_input(game)\n\u001b[0;32m    173\u001b[0m \u001b[39melif\u001b[39;00m game\u001b[39m.\u001b[39mplayermode \u001b[39m==\u001b[39m \u001b[39m'\u001b[39m\u001b[39mai\u001b[39m\u001b[39m'\u001b[39m:  \u001b[39m# player controlled by AI algorithm\u001b[39;00m\n\u001b[1;32m--> 175\u001b[0m     jump, left, release, right, shoot \u001b[39m=\u001b[39m \u001b[39mself\u001b[39;49m\u001b[39m.\u001b[39;49mai_input(game)\n\u001b[0;32m    176\u001b[0m \u001b[39mreturn\u001b[39;00m jump, left, release, right, shoot\n",
      "File \u001b[1;32mc:\\Users\\kaan9\\OneDrive\\Masaüstü\\EC\\evoman_framework-master\\evoman\\player.py:308\u001b[0m, in \u001b[0;36mPlayer.ai_input\u001b[1;34m(self, game)\u001b[0m\n\u001b[0;32m    306\u001b[0m     game\u001b[39m.\u001b[39mplayer_controller\u001b[39m.\u001b[39mset(game\u001b[39m.\u001b[39mpcont, \u001b[39mlen\u001b[39m(\u001b[39mself\u001b[39m\u001b[39m.\u001b[39msensors\u001b[39m.\u001b[39mget(game)))\n\u001b[0;32m    307\u001b[0m \u001b[39m# calls the controller providing game sensors\u001b[39;00m\n\u001b[1;32m--> 308\u001b[0m actions \u001b[39m=\u001b[39m game\u001b[39m.\u001b[39;49mplayer_controller\u001b[39m.\u001b[39;49mcontrol(\u001b[39mself\u001b[39;49m\u001b[39m.\u001b[39;49msensors\u001b[39m.\u001b[39;49mget(game), game\u001b[39m.\u001b[39;49mpcont)\n\u001b[0;32m    309\u001b[0m \u001b[39mif\u001b[39;00m \u001b[39mlen\u001b[39m(actions) \u001b[39m<\u001b[39m \u001b[39m5\u001b[39m:\n\u001b[0;32m    310\u001b[0m     game\u001b[39m.\u001b[39mprint_logs(\u001b[39m\"\u001b[39m\u001b[39mERROR: Player controller must return 5 decision variables.\u001b[39m\u001b[39m\"\u001b[39m)\n",
      "\u001b[1;32mc:\\Users\\kaan9\\OneDrive\\Masaüstü\\EC\\evoman_framework-master\\deneme.ipynb Cell 10\u001b[0m line \u001b[0;36m1\n\u001b[0;32m      <a href='vscode-notebook-cell:/c%3A/Users/kaan9/OneDrive/Masa%C3%BCst%C3%BC/EC/evoman_framework-master/deneme.ipynb#W6sZmlsZQ%3D%3D?line=8'>9</a>\u001b[0m inputs \u001b[39m=\u001b[39m (inputs\u001b[39m-\u001b[39m\u001b[39mmin\u001b[39m(inputs))\u001b[39m/\u001b[39m\u001b[39mfloat\u001b[39m((\u001b[39mmax\u001b[39m(inputs)\u001b[39m-\u001b[39m\u001b[39mmin\u001b[39m(inputs)))\n\u001b[0;32m     <a href='vscode-notebook-cell:/c%3A/Users/kaan9/OneDrive/Masa%C3%BCst%C3%BC/EC/evoman_framework-master/deneme.ipynb#W6sZmlsZQ%3D%3D?line=9'>10</a>\u001b[0m inputs \u001b[39m=\u001b[39m np\u001b[39m.\u001b[39marray(inputs)\u001b[39m.\u001b[39mreshape((\u001b[39m1\u001b[39m,\u001b[39m20\u001b[39m,))\n\u001b[1;32m---> <a href='vscode-notebook-cell:/c%3A/Users/kaan9/OneDrive/Masa%C3%BCst%C3%BC/EC/evoman_framework-master/deneme.ipynb#W6sZmlsZQ%3D%3D?line=11'>12</a>\u001b[0m sol \u001b[39m=\u001b[39m weights_matrix(\u001b[39mself\u001b[39;49m\u001b[39m.\u001b[39;49mmodel,controller)\n\u001b[0;32m     <a href='vscode-notebook-cell:/c%3A/Users/kaan9/OneDrive/Masa%C3%BCst%C3%BC/EC/evoman_framework-master/deneme.ipynb#W6sZmlsZQ%3D%3D?line=12'>13</a>\u001b[0m \u001b[39mself\u001b[39m\u001b[39m.\u001b[39mmodel\u001b[39m.\u001b[39mset_weights(sol)\n\u001b[0;32m     <a href='vscode-notebook-cell:/c%3A/Users/kaan9/OneDrive/Masa%C3%BCst%C3%BC/EC/evoman_framework-master/deneme.ipynb#W6sZmlsZQ%3D%3D?line=13'>14</a>\u001b[0m preds \u001b[39m=\u001b[39m \u001b[39mself\u001b[39m\u001b[39m.\u001b[39mmodel\u001b[39m.\u001b[39mpredict(inputs,verbose\u001b[39m=\u001b[39m\u001b[39m0\u001b[39m)\n",
      "\u001b[1;32mc:\\Users\\kaan9\\OneDrive\\Masaüstü\\EC\\evoman_framework-master\\deneme.ipynb Cell 10\u001b[0m line \u001b[0;36m6\n\u001b[0;32m      <a href='vscode-notebook-cell:/c%3A/Users/kaan9/OneDrive/Masa%C3%BCst%C3%BC/EC/evoman_framework-master/deneme.ipynb#W6sZmlsZQ%3D%3D?line=2'>3</a>\u001b[0m weights \u001b[39m=\u001b[39m solution[\u001b[39m5\u001b[39m:]\n\u001b[0;32m      <a href='vscode-notebook-cell:/c%3A/Users/kaan9/OneDrive/Masa%C3%BCst%C3%BC/EC/evoman_framework-master/deneme.ipynb#W6sZmlsZQ%3D%3D?line=3'>4</a>\u001b[0m bias \u001b[39m=\u001b[39m solution[:\u001b[39m5\u001b[39m]\n\u001b[1;32m----> <a href='vscode-notebook-cell:/c%3A/Users/kaan9/OneDrive/Masa%C3%BCst%C3%BC/EC/evoman_framework-master/deneme.ipynb#W6sZmlsZQ%3D%3D?line=5'>6</a>\u001b[0m weigths_matrix \u001b[39m=\u001b[39m [weights\u001b[39m.\u001b[39;49mreshape(model\u001b[39m.\u001b[39;49mget_weights()[\u001b[39m0\u001b[39;49m]\u001b[39m.\u001b[39;49mshape),bias\u001b[39m.\u001b[39mreshape(model\u001b[39m.\u001b[39mget_weights()[\u001b[39m1\u001b[39m]\u001b[39m.\u001b[39mshape)]\n\u001b[0;32m      <a href='vscode-notebook-cell:/c%3A/Users/kaan9/OneDrive/Masa%C3%BCst%C3%BC/EC/evoman_framework-master/deneme.ipynb#W6sZmlsZQ%3D%3D?line=7'>8</a>\u001b[0m \u001b[39mreturn\u001b[39;00m weigths_matrix\n",
      "\u001b[1;31mValueError\u001b[0m: cannot reshape array of size 331 into shape (20,16)"
     ]
    }
   ],
   "source": [
    "env.play(sol)"
   ]
  },
  {
   "cell_type": "code",
   "execution_count": null,
   "metadata": {},
   "outputs": [],
   "source": []
  }
 ],
 "metadata": {
  "kernelspec": {
   "display_name": "Python 3",
   "language": "python",
   "name": "python3"
  },
  "language_info": {
   "codemirror_mode": {
    "name": "ipython",
    "version": 3
   },
   "file_extension": ".py",
   "mimetype": "text/x-python",
   "name": "python",
   "nbconvert_exporter": "python",
   "pygments_lexer": "ipython3",
   "version": "3.11.5"
  },
  "orig_nbformat": 4
 },
 "nbformat": 4,
 "nbformat_minor": 2
}
